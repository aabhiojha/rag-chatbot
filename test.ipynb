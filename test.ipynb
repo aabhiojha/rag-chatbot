{
 "cells": [
  {
   "cell_type": "code",
   "execution_count": 13,
   "metadata": {},
   "outputs": [],
   "source": [
    "import faiss\n",
    "from langchain_community.document_loaders import PyPDFLoader, DirectoryLoader\n",
    "from langchain.text_splitter import RecursiveCharacterTextSplitter\n",
    "from langchain_huggingface import HuggingFaceEmbeddings\n",
    "from langchain_community.vectorstores import FAISS\n",
    "import os"
   ]
  },
  {
   "cell_type": "code",
   "execution_count": 6,
   "metadata": {},
   "outputs": [
    {
     "name": "stdout",
     "output_type": "stream",
     "text": [
      "1112\n"
     ]
    }
   ],
   "source": [
    "DATA_PATH=\"data/\"\n",
    "def load_pdf_files(data):\n",
    "    loader = DirectoryLoader(data,\n",
    "                             glob='*.pdf',\n",
    "                             loader_cls=PyPDFLoader)\n",
    "    documents=loader.load()\n",
    "    return documents\n",
    "\n",
    "documents=load_pdf_files(data=DATA_PATH)\n",
    "print(len(documents))"
   ]
  },
  {
   "cell_type": "code",
   "execution_count": 7,
   "metadata": {},
   "outputs": [
    {
     "data": {
      "text/plain": [
       "Document(metadata={'source': 'data/Guyton-and-Hall-Textbook-of-Medical-Physiology-12th-Ed.pdf', 'page': 11}, page_content=' Contents\\nxi\\nCHAPTER 15\\nVascular Distensibility and Functions of the \\nArterial and Venous Systems 167\\nVascular Distensibility 167\\nArterial Pressure Pulsations 168\\nVeins and Their Functions 171\\nCHAPTER 16\\nThe Microcirculation and Lymphatic  \\nSystem: Capillary Fluid Exchange,  \\nInterstitial Fluid, and Lymph Flow 177\\nStructure of the Microcirculation  \\nand Capillary System 177\\nFlow of Blood in the Capillaries—  \\nVasomotion 178\\nExchange of Water, Nutrients, and Other  \\nSubstances Between the Blood and  \\nInterstitial Fluid 179\\nInterstitium and Interstitial Fluid 180\\nFluid Filtration Across Capillaries Is  \\nDetermined by Hydrostatic and Colloid  \\nOsmotic Pressures, as Well as Capillary  \\nFiltration Coefficient 181\\nLymphatic System 186\\nCHAPTER 17\\nLocal and Humoral Control of Tissue  \\nBlood Flow 191\\nLocal Control of Blood Flow in Response to  \\nTissue Needs 191\\nMechanisms of Blood Flow Control 191\\nHumoral Control of the Circulation 199\\nCHAPTER 18\\nNervous Regulation of the Circulation,  \\nand Rapid Control of Arterial Pressure 201\\nNervous Regulation of the Circulation 201\\nRole of the Nervous System in Rapid  \\nControl of Arterial Pressure 204\\nSpecial Features of Nervous Control  \\nof Arterial Pressure 209\\nCHAPTER 19\\nRole of the Kidneys in Long-Term Control of \\nArterial Pressure and in Hypertension: The \\nIntegrated System for Arterial Pressure  \\nRegulation 213\\nRenal–Body Fluid System for Arterial  \\nPressure Control 213\\nThe Renin-Angiotensin System: Its Role  \\nin Arterial Pressure Control 220\\nSummary of the Integrated, Multifaceted  \\nSystem for Arterial Pressure Regulation 226\\nCHAPTER 20\\nCardiac Output, Venous Return,  \\nand Their Regulation 229\\nNormal Values for Cardiac Output at Rest  \\nand During Activity 229\\nControl of Cardiac Output by Venous  \\nReturn—Role of the Frank-Starling Mechanism  \\nof the Heart 229\\nPathologically High or Low Cardiac Outputs 232\\nMethods for Measuring Cardiac  \\nOutput 240\\nCHAPTER 21\\nMuscle Blood Flow and Cardiac Output  \\nDuring Exercise; the Coronary Circulation  \\nand Ischemic Heart Disease 243\\nBlood Flow Regulation in Skeletal Muscle  \\nat Rest and During Exercise 243\\nCoronary Circulation 246\\nCHAPTER 22\\nCardiac Failure 255\\nCirculatory Dynamics in Cardiac Failure 255\\nUnilateral Left Heart Failure 259\\nLow-Output Cardiac Failure— \\nCardiogenic Shock 259\\nEdema in Patients with Cardiac Failure 259\\nCardiac Reserve 261\\nCHAPTER 23\\nHeart Valves and Heart Sounds;  \\nValvular and Congenital Heart  \\nDefects 265\\nHeart Sounds 265\\nAbnormal Circulatory Dynamics in Valvular  \\nHeart Disease 268\\nAbnormal Circulatory Dynamics  \\nin Congenital Heart Defects 269\\nUse of Extracorporeal Circulation During  \\nCardiac Surgery 271\\nHypertrophy of the Heart in Valvular  \\nand Congenital Heart Disease 272\\nCHAPTER 24\\nCirculatory Shock and Its Treatment 273\\nPhysiologic Causes of Shock 273\\nShock Caused by Hypovolemia— \\nHemorrhagic Shock 274\\nNeurogenic Shock—Increased Vascular  \\nCapacity 279\\nAnaphylactic Shock and Histamine Shock 280\\nSeptic Shock 280')"
      ]
     },
     "execution_count": 7,
     "metadata": {},
     "output_type": "execute_result"
    }
   ],
   "source": [
    "documents[11]"
   ]
  },
  {
   "cell_type": "code",
   "execution_count": 8,
   "metadata": {},
   "outputs": [
    {
     "name": "stdout",
     "output_type": "stream",
     "text": [
      "Length of Text Chunks:  11546\n"
     ]
    }
   ],
   "source": [
    "\n",
    "def create_chunks(extracted_data):\n",
    "    text_splitter=RecursiveCharacterTextSplitter(chunk_size=500,\n",
    "                                                 chunk_overlap=50)\n",
    "    text_chunks=text_splitter.split_documents(extracted_data)\n",
    "    return text_chunks\n",
    "\n",
    "text_chunks=create_chunks(extracted_data=documents)\n",
    "print(\"Length of Text Chunks: \", len(text_chunks))"
   ]
  },
  {
   "cell_type": "code",
   "execution_count": 9,
   "metadata": {},
   "outputs": [
    {
     "data": {
      "text/plain": [
       "Document(metadata={'source': 'data/Guyton-and-Hall-Textbook-of-Medical-Physiology-12th-Ed.pdf', 'page': 114}, page_content='When the myosin kinase and myosin phosphatase \\nenzymes are both strongly activated, the cycling frequency \\nof the myosin heads and the velocity of contraction are \\ngreat. Then, as the activation of the enzymes decreases, \\nthe cycling frequency decreases, but at the same time, the \\ndeactivation of these enzymes allows the myosin heads to \\nremain attached to the actin filament for a longer and lon-\\nger proportion of the cycling period. Therefore, the num-')"
      ]
     },
     "execution_count": 9,
     "metadata": {},
     "output_type": "execute_result"
    }
   ],
   "source": [
    "text_chunks[1000]"
   ]
  },
  {
   "cell_type": "code",
   "execution_count": 10,
   "metadata": {},
   "outputs": [],
   "source": [
    "def get_embedding_model():\n",
    "    embedding_model=HuggingFaceEmbeddings(model_name=\"sentence-transformers/all-MiniLM-L6-v2\")\n",
    "    return embedding_model"
   ]
  },
  {
   "cell_type": "code",
   "execution_count": 11,
   "metadata": {},
   "outputs": [
    {
     "name": "stderr",
     "output_type": "stream",
     "text": [
      "/home/abhishek/miniconda3/envs/huggingface/lib/python3.13/site-packages/torch/cuda/__init__.py:129: UserWarning: CUDA initialization: CUDA unknown error - this may be due to an incorrectly set up environment, e.g. changing env variable CUDA_VISIBLE_DEVICES after program start. Setting the available devices to be zero. (Triggered internally at ../c10/cuda/CUDAFunctions.cpp:108.)\n",
      "  return torch._C._cuda_getDeviceCount() > 0\n"
     ]
    }
   ],
   "source": [
    "embedding_model=get_embedding_model()"
   ]
  },
  {
   "cell_type": "code",
   "execution_count": 19,
   "metadata": {},
   "outputs": [],
   "source": [
    "DB_FAISS_PATH=\"vectorstore/db_faiss\"\n",
    "if os.path.exists(DB_FAISS_PATH):\n",
    "    pass\n",
    "else:\n",
    "    db=FAISS.from_documents(text_chunks, embedding_model)\n",
    "    db.save_local(DB_FAISS_PATH)"
   ]
  },
  {
   "cell_type": "markdown",
   "metadata": {},
   "source": [
    "# connect database with langchain"
   ]
  },
  {
   "cell_type": "code",
   "execution_count": 40,
   "metadata": {},
   "outputs": [],
   "source": [
    "import os\n",
    "from langchain_huggingface import HuggingFaceEndpoint\n",
    "from langchain_core.prompts import PromptTemplate\n",
    "from langchain.chains import create_retrieval_chain\n",
    "from langchain_huggingface import HuggingFaceEmbeddings"
   ]
  },
  {
   "cell_type": "code",
   "execution_count": 34,
   "metadata": {},
   "outputs": [],
   "source": [
    "HF_TOKEN=os.environ.get(\"HF_TOKEN\")"
   ]
  },
  {
   "cell_type": "code",
   "execution_count": 35,
   "metadata": {},
   "outputs": [],
   "source": [
    "huggingface_repo_id=\"mistralai/Mistral-Nemo-Instruct-2407\""
   ]
  },
  {
   "cell_type": "code",
   "execution_count": 36,
   "metadata": {},
   "outputs": [],
   "source": [
    "def load_llm(huggingface_repo_id):\n",
    "    llm=HuggingFaceEndpoint(\n",
    "        repo_id=huggingface_repo_id,\n",
    "        temperature=0.3,\n",
    "        model_kwargs={\"token\":HF_TOKEN,\n",
    "                      \"max_length\":512}\n",
    "    )\n",
    "    return llm"
   ]
  },
  {
   "cell_type": "code",
   "execution_count": 37,
   "metadata": {},
   "outputs": [],
   "source": [
    "DB_FAISS_PATH=\"vectorstore/db_faiss\"\n",
    "custom_prompt_template=\"\"\"\n",
    "Use the pieces of information provided in the context to answer user's question. If you don't know the answer, just dont say that you don't know, Dont try to make up an answer. Dont provide anything out of the given context.\n",
    "\n",
    "Context:{context}\n",
    "Question:{question}\n",
    "\n",
    "Start the answer directly, No small talk!\n",
    "\"\"\"\n",
    "def set_custom_prompt(custom_prompt_template):\n",
    "    prompt=PromptTemplate(template=custom_prompt_template,\n",
    "                          input_variables=[\"context\",\"question\"])\n",
    "    return prompt"
   ]
  },
  {
   "cell_type": "code",
   "execution_count": 38,
   "metadata": {},
   "outputs": [],
   "source": [
    "embedding_model=HuggingFaceEmbeddings(model_name=\"sentence-transformers/all-MiniLM-L6-v2\")\n",
    "db=FAISS.load_local(DB_FAISS_PATH, embedding_model, allow_dangerous_deserialization=True)"
   ]
  },
  {
   "cell_type": "markdown",
   "metadata": {},
   "source": [
    "## Creating qa chain"
   ]
  },
  {
   "cell_type": "code",
   "execution_count": 41,
   "metadata": {},
   "outputs": [
    {
     "name": "stderr",
     "output_type": "stream",
     "text": [
      "Note: Environment variable`HF_TOKEN` is set and is the current active token independently from the token you've just configured.\n"
     ]
    },
    {
     "ename": "TypeError",
     "evalue": "create_retrieval_chain() got an unexpected keyword argument 'llm'",
     "output_type": "error",
     "traceback": [
      "\u001b[0;31m---------------------------------------------------------------------------\u001b[0m",
      "\u001b[0;31mTypeError\u001b[0m                                 Traceback (most recent call last)",
      "Cell \u001b[0;32mIn[41], line 1\u001b[0m\n\u001b[0;32m----> 1\u001b[0m qa_chain\u001b[38;5;241m=\u001b[39m\u001b[43mcreate_retrieval_chain\u001b[49m\u001b[43m(\u001b[49m\n\u001b[1;32m      2\u001b[0m \u001b[43m    \u001b[49m\u001b[43mllm\u001b[49m\u001b[38;5;241;43m=\u001b[39;49m\u001b[43m \u001b[49m\u001b[43mload_llm\u001b[49m\u001b[43m(\u001b[49m\u001b[43mhuggingface_repo_id\u001b[49m\u001b[43m)\u001b[49m\u001b[43m,\u001b[49m\n\u001b[1;32m      3\u001b[0m \u001b[43m    \u001b[49m\u001b[43mchain_type\u001b[49m\u001b[38;5;241;43m=\u001b[39;49m\u001b[38;5;124;43m\"\u001b[39;49m\u001b[38;5;124;43mstuff\u001b[39;49m\u001b[38;5;124;43m\"\u001b[39;49m\u001b[43m,\u001b[49m\n\u001b[1;32m      4\u001b[0m \u001b[43m    \u001b[49m\u001b[43mretriver\u001b[49m\u001b[38;5;241;43m=\u001b[39;49m\u001b[43mdb\u001b[49m\u001b[38;5;241;43m.\u001b[39;49m\u001b[43mas_retriever\u001b[49m\u001b[43m(\u001b[49m\u001b[43msearch_kwargs\u001b[49m\u001b[38;5;241;43m=\u001b[39;49m\u001b[43m{\u001b[49m\u001b[38;5;124;43m'\u001b[39;49m\u001b[38;5;124;43mk\u001b[39;49m\u001b[38;5;124;43m'\u001b[39;49m\u001b[43m:\u001b[49m\u001b[38;5;241;43m3\u001b[39;49m\u001b[43m}\u001b[49m\u001b[43m)\u001b[49m\u001b[43m,\u001b[49m\n\u001b[1;32m      5\u001b[0m \u001b[43m    \u001b[49m\u001b[43mreturn_source_documents\u001b[49m\u001b[38;5;241;43m=\u001b[39;49m\u001b[38;5;28;43;01mTrue\u001b[39;49;00m\u001b[43m,\u001b[49m\n\u001b[1;32m      6\u001b[0m \u001b[43m    \u001b[49m\u001b[43mchain_type_kwargs\u001b[49m\u001b[38;5;241;43m=\u001b[39;49m\u001b[43m{\u001b[49m\u001b[38;5;124;43m'\u001b[39;49m\u001b[38;5;124;43mprompt\u001b[39;49m\u001b[38;5;124;43m'\u001b[39;49m\u001b[43m:\u001b[49m\u001b[43mset_custom_prompt\u001b[49m\u001b[43m(\u001b[49m\u001b[43mcustom_prompt_template\u001b[49m\u001b[43m)\u001b[49m\u001b[43m}\u001b[49m\n\u001b[1;32m      7\u001b[0m \u001b[43m)\u001b[49m\n\u001b[1;32m      9\u001b[0m user_query\u001b[38;5;241m=\u001b[39m\u001b[38;5;28minput\u001b[39m(\u001b[38;5;124m\"\u001b[39m\u001b[38;5;124mWrite query here:\u001b[39m\u001b[38;5;124m\"\u001b[39m)\n\u001b[1;32m     10\u001b[0m response\u001b[38;5;241m=\u001b[39mqa_chain\u001b[38;5;241m.\u001b[39minvoke({\u001b[38;5;124m'\u001b[39m\u001b[38;5;124mquery\u001b[39m\u001b[38;5;124m'\u001b[39m:user_query})\n",
      "\u001b[0;31mTypeError\u001b[0m: create_retrieval_chain() got an unexpected keyword argument 'llm'"
     ]
    }
   ],
   "source": [
    "qa_chain=create_retrieval_chain(\n",
    "    llm= load_llm(huggingface_repo_id),\n",
    "    chain_type=\"stuff\",\n",
    "    retriver=db.as_retriever(search_kwargs={'k':3}),\n",
    "    return_source_documents=True,\n",
    "    chain_type_kwargs={'prompt':set_custom_prompt(custom_prompt_template)}\n",
    ")\n",
    "\n",
    "user_query=input(\"Write query here:\")\n",
    "response=qa_chain.invoke({'query':user_query})\n",
    "print(\"Result:\", response['result'])\n",
    "print(\"Source Documents:\", response['source_documents'])"
   ]
  },
  {
   "cell_type": "code",
   "execution_count": 42,
   "metadata": {},
   "outputs": [
    {
     "ename": "NameError",
     "evalue": "name 'create_stuff_documents_chain' is not defined",
     "output_type": "error",
     "traceback": [
      "\u001b[0;31m---------------------------------------------------------------------------\u001b[0m",
      "\u001b[0;31mNameError\u001b[0m                                 Traceback (most recent call last)",
      "Cell \u001b[0;32mIn[42], line 2\u001b[0m\n\u001b[1;32m      1\u001b[0m query\u001b[38;5;241m=\u001b[39m\u001b[38;5;124m\"\u001b[39m\u001b[38;5;124mwhat is the meaning of life?\u001b[39m\u001b[38;5;124m\"\u001b[39m\n\u001b[0;32m----> 2\u001b[0m question_answer_chain\u001b[38;5;241m=\u001b[39m\u001b[43mcreate_stuff_documents_chain\u001b[49m(load_llm(huggingface_repo_id))\n\u001b[1;32m      3\u001b[0m chain\u001b[38;5;241m=\u001b[39mcreate_retrieval_chain(retriever, question_answer_chain)\n\u001b[1;32m      4\u001b[0m chain\u001b[38;5;241m.\u001b[39minvoke({\u001b[38;5;124m\"\u001b[39m\u001b[38;5;124minput\u001b[39m\u001b[38;5;124m\"\u001b[39m:query})\n",
      "\u001b[0;31mNameError\u001b[0m: name 'create_stuff_documents_chain' is not defined"
     ]
    }
   ],
   "source": [
    "query=\"what is the meaning of life?\"\n",
    "question_answer_chain=create_stuff_documents_chain(load_llm(huggingface_repo_id))\n",
    "chain=create_retrieval_chain(retriever, question_answer_chain)\n",
    "chain.invoke({\"input\":query})"
   ]
  },
  {
   "cell_type": "code",
   "execution_count": null,
   "metadata": {},
   "outputs": [],
   "source": []
  }
 ],
 "metadata": {
  "kernelspec": {
   "display_name": "huggingface",
   "language": "python",
   "name": "python3"
  },
  "language_info": {
   "codemirror_mode": {
    "name": "ipython",
    "version": 3
   },
   "file_extension": ".py",
   "mimetype": "text/x-python",
   "name": "python",
   "nbconvert_exporter": "python",
   "pygments_lexer": "ipython3",
   "version": "3.13.1"
  }
 },
 "nbformat": 4,
 "nbformat_minor": 2
}
